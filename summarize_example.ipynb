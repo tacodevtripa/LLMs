{
 "cells": [
  {
   "cell_type": "markdown",
   "id": "d15d8294-3328-4e07-ad16-8a03e9bbfdb9",
   "metadata": {},
   "source": [
    "# Primera interaccion con un LLM desde VSCode\n",
    "\n"
   ]
  },
  {
   "cell_type": "code",
   "execution_count": 9,
   "id": "4e2a9393-7767-488e-a8bf-27c12dca35bd",
   "metadata": {},
   "outputs": [],
   "source": [
    "import os\n",
    "import requests\n",
    "from bs4 import BeautifulSoup\n",
    "from IPython.display import Markdown, display\n",
    "from langchain_ollama.llms import OllamaLLM"
   ]
  },
  {
   "cell_type": "markdown",
   "id": "442fc84b-0815-4f40-99ab-d9a5da6bda91",
   "metadata": {},
   "source": [
    "# Llamada de prueba a nuestro modelo local"
   ]
  },
  {
   "cell_type": "code",
   "execution_count": 10,
   "id": "a58394bf-1e45-46af-9bfd-01e24da6f49a",
   "metadata": {},
   "outputs": [
    {
     "data": {
      "text/plain": [
       "\"LangChain is an open-source framework for building blockchain-agnostic data pipelines, specifically designed for the Polkadot and Substrate ecosystems. It aims to simplify the process of integrating data storage, querying, and processing with decentralized applications (dApps).\\n\\nLangChain provides a set of libraries, tools, and frameworks that enable developers to:\\n\\n1. Store and manage data on-chain using blockchain-based storage solutions like Pinata and IPFS.\\n2. Query data from the blockchain using Substrate's query system or external APIs.\\n3. Process and transform data using Rust and other programming languages.\\n4. Build robust and scalable data pipelines for dApps.\\n\\nThe core components of LangChain include:\\n\\n1. `langchain-store`: A storage library that allows you to store, retrieve, and update data on the blockchain.\\n2. `langchain-query`: A querying library that enables you to fetch data from the blockchain using Substrate's query system or external APIs.\\n3. `langchain-pipeline`: A pipeline builder that helps you create robust and scalable data pipelines for your dApps.\\n\\nLangChain has several benefits, including:\\n\\n1. **Decentralized data storage**: LangChain allows you to store data on-chain, ensuring data integrity and immutability.\\n2. **Improved scalability**: By leveraging the power of blockchain-based storage solutions, LangChain enables faster data processing and querying.\\n3. **Reduced latency**: With LangChain, data can be retrieved directly from the blockchain, reducing latency compared to external APIs.\\n\\nOverall, LangChain aims to simplify the process of building decentralized data pipelines, enabling developers to focus on building robust and scalable dApps that interact with their users in meaningful ways.\""
      ]
     },
     "execution_count": 10,
     "metadata": {},
     "output_type": "execute_result"
    }
   ],
   "source": [
    "\n",
    "model = OllamaLLM(model=\"llama3.2\")\n",
    "\n",
    "model.invoke(\"What is LangChain?\")"
   ]
  },
  {
   "cell_type": "markdown",
   "id": "2aa190e5-cb31-456a-96cc-db109919cd78",
   "metadata": {},
   "source": [
    "## Comenzando nuestro primer proyecto"
   ]
  },
  {
   "cell_type": "code",
   "execution_count": 11,
   "id": "c5e793b2-6775-426a-a139-4848291d0463",
   "metadata": {},
   "outputs": [],
   "source": [
    "# Some websites need you to use proper headers when fetching them:\n",
    "headers = {\n",
    " \"User-Agent\": \"Mozilla/5.0 (Windows NT 10.0; Win64; x64) AppleWebKit/537.36 (KHTML, like Gecko) Chrome/117.0.0.0 Safari/537.36\"\n",
    "}\n",
    "\n",
    "class Website:\n",
    "\n",
    "    def __init__(self, url):\n",
    "        self.url = url\n",
    "        response = requests.get(url, headers=headers) # obtener el sitio web\n",
    "        soup = BeautifulSoup(response.content, 'html.parser') # formatear como HTML\n",
    "        self.title = soup.title.string if soup.title else \"No title found\" # configurar 'title' en caso de que haya\n",
    "        for irrelevant in soup.find_all(['script', 'style', 'img', 'input']): #eliminar etiquetas irrelevantes para el proyecto\n",
    "            irrelevant.decompose()\n",
    "        self.text = soup.body.get_text(separator=\"\\n\", strip=True)"
   ]
  },
  {
   "cell_type": "markdown",
   "id": "209b6526",
   "metadata": {},
   "source": [
    "# Probando el codigo"
   ]
  },
  {
   "cell_type": "code",
   "execution_count": 12,
   "id": "2ef960cf-6dc2-4cda-afb3-b38be12f4c97",
   "metadata": {},
   "outputs": [
    {
     "name": "stdout",
     "output_type": "stream",
     "text": [
      "tacodevtripa (tacodevtripa) · GitHub\n",
      "Skip to content\n",
      "Navigation Menu\n",
      "Toggle navigation\n",
      "Sign in\n",
      "Product\n",
      "GitHub Copilot\n",
      "Write better code with AI\n",
      "Security\n",
      "Find and fix vulnerabilities\n",
      "Actions\n",
      "Automate any workflow\n",
      "Codespaces\n",
      "Instant dev environments\n",
      "Issues\n",
      "Plan and track work\n",
      "Code Review\n",
      "Manage code changes\n",
      "Discussions\n",
      "Collaborate outside of code\n",
      "Code Search\n",
      "Find more, search less\n",
      "Explore\n",
      "All features\n",
      "Documentation\n",
      "GitHub Skills\n",
      "Blog\n",
      "Solutions\n",
      "By company size\n",
      "Enterprises\n",
      "Small and medium teams\n",
      "Startups\n",
      "Nonprofits\n",
      "By use case\n",
      "DevSecOps\n",
      "DevOps\n",
      "CI/CD\n",
      "View all use cases\n",
      "By industry\n",
      "Healthcare\n",
      "Financial services\n",
      "Manufacturing\n",
      "Government\n",
      "View all industries\n",
      "View all solutions\n",
      "Resources\n",
      "Topics\n",
      "AI\n",
      "DevOps\n",
      "Security\n",
      "Software Development\n",
      "View all\n",
      "Explore\n",
      "Learning Pathways\n",
      "White papers, Ebooks, Webinars\n",
      "Customer Stories\n",
      "Partners\n",
      "Executive Insights\n",
      "Open Source\n",
      "GitHub Sponsors\n",
      "Fund open source developers\n",
      "The ReadME Project\n",
      "GitHub community articles\n",
      "Repositories\n",
      "Topics\n",
      "Trending\n",
      "Collections\n",
      "Enterprise\n",
      "Enterprise platform\n",
      "AI-powered developer platform\n",
      "Available add-ons\n",
      "Advanced Security\n",
      "Enterprise-grade security features\n",
      "GitHub Copilot\n",
      "Enterprise-grade AI features\n",
      "Premium Support\n",
      "Enterprise-grade 24/7 support\n",
      "Pricing\n",
      "Search or jump to...\n",
      "Search code, repositories, users, issues, pull requests...\n",
      "Search\n",
      "Clear\n",
      "Search syntax tips\n",
      "Provide feedback\n",
      "We read every piece of feedback, and take your input very seriously.\n",
      "Include my email address so I can be contacted\n",
      "Cancel\n",
      "Submit feedback\n",
      "Saved searches\n",
      "Use saved searches to filter your results more quickly\n",
      "Cancel\n",
      "Create saved search\n",
      "Sign in\n",
      "Sign up\n",
      "Reseting focus\n",
      "You signed in with another tab or window.\n",
      "Reload\n",
      "to refresh your session.\n",
      "You signed out in another tab or window.\n",
      "Reload\n",
      "to refresh your session.\n",
      "You switched accounts on another tab or window.\n",
      "Reload\n",
      "to refresh your session.\n",
      "Dismiss alert\n",
      "tacodevtripa\n",
      "Follow\n",
      "Overview\n",
      "Repositories\n",
      "3\n",
      "Projects\n",
      "0\n",
      "Packages\n",
      "0\n",
      "Stars\n",
      "2\n",
      "More\n",
      "Overview\n",
      "Repositories\n",
      "Projects\n",
      "Packages\n",
      "Stars\n",
      "tacodevtripa\n",
      "Follow\n",
      "tacodevtripa\n",
      "tacodevtripa\n",
      "Follow\n",
      "👨‍💻 Full-stack development made simple! Welcome to the official GitHub of 'taco dev tripa'. Here, you'll find all the resources from the YouTube videos.\n",
      "https://www.youtube.com/@tacodevtripa\n",
      "Block or Report\n",
      "Block or report tacodevtripa\n",
      "Report abuse\n",
      "Contact GitHub support about this user’s behavior.\n",
      "        Learn more about\n",
      "reporting abuse\n",
      ".\n",
      "Report abuse\n",
      "Overview\n",
      "Repositories\n",
      "3\n",
      "Projects\n",
      "0\n",
      "Packages\n",
      "0\n",
      "Stars\n",
      "2\n",
      "More\n",
      "Overview\n",
      "Repositories\n",
      "Projects\n",
      "Packages\n",
      "Stars\n",
      "tacodevtripa\n",
      "/\n",
      "README\n",
      ".md\n",
      "🌟 Welcome to tacodevtripa's GitHub!\n",
      "Hi there! 👋\n",
      "I'm dedicated to helping aspiring developers become\n",
      "Full-stack professionals\n",
      ". This GitHub profile complements my\n",
      "YouTube Channel\n",
      "by providing code, projects, and resources from my tutorials.\n",
      "🚀 What You’ll Find Here:\n",
      "Frontend Projects\n",
      ": From HTML & CSS basics to React apps.\n",
      "Backend Projects\n",
      ": APIs with Node.js, Spring Boot, and more.\n",
      "Full-stack Applications\n",
      ": Complete solutions combining frontend, backend, databases and AWS solutions.\n",
      "Resources\n",
      ": Cheat sheets, boilerplates, and reusable components.\n",
      "🌟 About Me\n",
      "I'm passionate about teaching web development and empowering creators with the skills to build\n",
      "real-world applications\n",
      ". Whether you're just starting out or looking to deepen your knowledge, I've got you covered!\n",
      "💬\n",
      "Let's Connect\n",
      ":\n",
      "YouTube\n",
      "Discord\n",
      "⭐️ Support\n",
      "If you enjoy the content and find it helpful:\n",
      "Star 🌟 the repositories you love.\n",
      "Share the tutorials with your network.\n",
      "Subscribe to my\n",
      "YouTube Channel\n",
      "for more content!\n",
      "Happy coding! 🚀\n",
      "Popular repositories\n",
      "Loading\n",
      "tacodevtripa\n",
      "tacodevtripa\n",
      "Public\n",
      "html-css\n",
      "html-css\n",
      "Public\n",
      "LLMs\n",
      "LLMs\n",
      "Public\n",
      "Something went wrong, please refresh the page to try again.\n",
      "If the problem persists, check the\n",
      "GitHub status page\n",
      "or\n",
      "contact support\n",
      ".\n",
      "Footer\n",
      "© 2025 GitHub, Inc.\n",
      "Footer navigation\n",
      "Terms\n",
      "Privacy\n",
      "Security\n",
      "Status\n",
      "Docs\n",
      "Contact\n",
      "Manage cookies\n",
      "Do not share my personal information\n",
      "You can’t perform that action at this time.\n"
     ]
    }
   ],
   "source": [
    "\n",
    "tacodevtripa = Website(\"https://github.com/tacodevtripa\")\n",
    "print(tacodevtripa.title)\n",
    "print(tacodevtripa.text)"
   ]
  },
  {
   "cell_type": "markdown",
   "id": "6a478a0c-2c53-48ff-869c-4d08199931e1",
   "metadata": {},
   "source": [
    "## Tipos de Prompts\n",
    "\n",
    "\n",
    "**system prompt** descripcion de la tarea especifica, asi como la manera en que esta debe ser realizada\n",
    "\n",
    "**user prompt** -- Input por parte del usuario"
   ]
  },
  {
   "cell_type": "code",
   "execution_count": 13,
   "id": "abdb8417-c5dc-44bc-9bee-2e059d162699",
   "metadata": {},
   "outputs": [],
   "source": [
    "\"\"\"En esta definicion cada detalle importa, el simple hecho de agregar una instruccion puedes cambiar por completo\n",
    "el formato en el que el LLM genera su respuesta, incluyendo traduccion a otro idioma o formato especifico (JSON, YML, etc)\"\"\"\n",
    "\n",
    "system_prompt = \"You are an assistant that analyzes the contents of a website \\\n",
    "and provides a short summary, ignoring text that might be navigation related. \\\n",
    "Respond in markdown.\""
   ]
  },
  {
   "cell_type": "markdown",
   "id": "4b592a6f",
   "metadata": {},
   "source": [
    "### Funcion para generar el formato deseado del input de usuario, incluyendo las variables para el contenido dinamico"
   ]
  },
  {
   "cell_type": "code",
   "execution_count": 16,
   "id": "f0275b1b-7cfe-4f9d-abfa-7650d378da0c",
   "metadata": {},
   "outputs": [],
   "source": [
    "\n",
    "def user_prompt_for(website):\n",
    "    user_prompt = f\"You are looking at a website titled {website.title}\"\n",
    "    user_prompt += \"\\nThe contents of this website is as follows; \\\n",
    "please provide a short summary of this website in markdown. \\\n",
    "If it includes news or announcements, then summarize these too.\\n\\n\"\n",
    "    user_prompt += website.text\n",
    "    return user_prompt"
   ]
  },
  {
   "cell_type": "code",
   "execution_count": 17,
   "id": "26448ec4-5c00-4204-baec-7df91d11ff2e",
   "metadata": {},
   "outputs": [
    {
     "name": "stdout",
     "output_type": "stream",
     "text": [
      "You are looking at a website titled tacodevtripa (tacodevtripa) · GitHub\n",
      "The contents of this website is as follows; please provide a short summary of this website in markdown. If it includes news or announcements, then summarize these too.\n",
      "\n",
      "Skip to content\n",
      "Navigation Menu\n",
      "Toggle navigation\n",
      "Sign in\n",
      "Product\n",
      "GitHub Copilot\n",
      "Write better code with AI\n",
      "Security\n",
      "Find and fix vulnerabilities\n",
      "Actions\n",
      "Automate any workflow\n",
      "Codespaces\n",
      "Instant dev environments\n",
      "Issues\n",
      "Plan and track work\n",
      "Code Review\n",
      "Manage code changes\n",
      "Discussions\n",
      "Collaborate outside of code\n",
      "Code Search\n",
      "Find more, search less\n",
      "Explore\n",
      "All features\n",
      "Documentation\n",
      "GitHub Skills\n",
      "Blog\n",
      "Solutions\n",
      "By company size\n",
      "Enterprises\n",
      "Small and medium teams\n",
      "Startups\n",
      "Nonprofits\n",
      "By use case\n",
      "DevSecOps\n",
      "DevOps\n",
      "CI/CD\n",
      "View all use cases\n",
      "By industry\n",
      "Healthcare\n",
      "Financial services\n",
      "Manufacturing\n",
      "Government\n",
      "View all industries\n",
      "View all solutions\n",
      "Resources\n",
      "Topics\n",
      "AI\n",
      "DevOps\n",
      "Security\n",
      "Software Development\n",
      "View all\n",
      "Explore\n",
      "Learning Pathways\n",
      "White papers, Ebooks, Webinars\n",
      "Customer Stories\n",
      "Partners\n",
      "Executive Insights\n",
      "Open Source\n",
      "GitHub Sponsors\n",
      "Fund open source developers\n",
      "The ReadME Project\n",
      "GitHub community articles\n",
      "Repositories\n",
      "Topics\n",
      "Trending\n",
      "Collections\n",
      "Enterprise\n",
      "Enterprise platform\n",
      "AI-powered developer platform\n",
      "Available add-ons\n",
      "Advanced Security\n",
      "Enterprise-grade security features\n",
      "GitHub Copilot\n",
      "Enterprise-grade AI features\n",
      "Premium Support\n",
      "Enterprise-grade 24/7 support\n",
      "Pricing\n",
      "Search or jump to...\n",
      "Search code, repositories, users, issues, pull requests...\n",
      "Search\n",
      "Clear\n",
      "Search syntax tips\n",
      "Provide feedback\n",
      "We read every piece of feedback, and take your input very seriously.\n",
      "Include my email address so I can be contacted\n",
      "Cancel\n",
      "Submit feedback\n",
      "Saved searches\n",
      "Use saved searches to filter your results more quickly\n",
      "Cancel\n",
      "Create saved search\n",
      "Sign in\n",
      "Sign up\n",
      "Reseting focus\n",
      "You signed in with another tab or window.\n",
      "Reload\n",
      "to refresh your session.\n",
      "You signed out in another tab or window.\n",
      "Reload\n",
      "to refresh your session.\n",
      "You switched accounts on another tab or window.\n",
      "Reload\n",
      "to refresh your session.\n",
      "Dismiss alert\n",
      "tacodevtripa\n",
      "Follow\n",
      "Overview\n",
      "Repositories\n",
      "3\n",
      "Projects\n",
      "0\n",
      "Packages\n",
      "0\n",
      "Stars\n",
      "2\n",
      "More\n",
      "Overview\n",
      "Repositories\n",
      "Projects\n",
      "Packages\n",
      "Stars\n",
      "tacodevtripa\n",
      "Follow\n",
      "tacodevtripa\n",
      "tacodevtripa\n",
      "Follow\n",
      "👨‍💻 Full-stack development made simple! Welcome to the official GitHub of 'taco dev tripa'. Here, you'll find all the resources from the YouTube videos.\n",
      "https://www.youtube.com/@tacodevtripa\n",
      "Block or Report\n",
      "Block or report tacodevtripa\n",
      "Report abuse\n",
      "Contact GitHub support about this user’s behavior.\n",
      "        Learn more about\n",
      "reporting abuse\n",
      ".\n",
      "Report abuse\n",
      "Overview\n",
      "Repositories\n",
      "3\n",
      "Projects\n",
      "0\n",
      "Packages\n",
      "0\n",
      "Stars\n",
      "2\n",
      "More\n",
      "Overview\n",
      "Repositories\n",
      "Projects\n",
      "Packages\n",
      "Stars\n",
      "tacodevtripa\n",
      "/\n",
      "README\n",
      ".md\n",
      "🌟 Welcome to tacodevtripa's GitHub!\n",
      "Hi there! 👋\n",
      "I'm dedicated to helping aspiring developers become\n",
      "Full-stack professionals\n",
      ". This GitHub profile complements my\n",
      "YouTube Channel\n",
      "by providing code, projects, and resources from my tutorials.\n",
      "🚀 What You’ll Find Here:\n",
      "Frontend Projects\n",
      ": From HTML & CSS basics to React apps.\n",
      "Backend Projects\n",
      ": APIs with Node.js, Spring Boot, and more.\n",
      "Full-stack Applications\n",
      ": Complete solutions combining frontend, backend, databases and AWS solutions.\n",
      "Resources\n",
      ": Cheat sheets, boilerplates, and reusable components.\n",
      "🌟 About Me\n",
      "I'm passionate about teaching web development and empowering creators with the skills to build\n",
      "real-world applications\n",
      ". Whether you're just starting out or looking to deepen your knowledge, I've got you covered!\n",
      "💬\n",
      "Let's Connect\n",
      ":\n",
      "YouTube\n",
      "Discord\n",
      "⭐️ Support\n",
      "If you enjoy the content and find it helpful:\n",
      "Star 🌟 the repositories you love.\n",
      "Share the tutorials with your network.\n",
      "Subscribe to my\n",
      "YouTube Channel\n",
      "for more content!\n",
      "Happy coding! 🚀\n",
      "Popular repositories\n",
      "Loading\n",
      "tacodevtripa\n",
      "tacodevtripa\n",
      "Public\n",
      "html-css\n",
      "html-css\n",
      "Public\n",
      "LLMs\n",
      "LLMs\n",
      "Public\n",
      "Something went wrong, please refresh the page to try again.\n",
      "If the problem persists, check the\n",
      "GitHub status page\n",
      "or\n",
      "contact support\n",
      ".\n",
      "Footer\n",
      "© 2025 GitHub, Inc.\n",
      "Footer navigation\n",
      "Terms\n",
      "Privacy\n",
      "Security\n",
      "Status\n",
      "Docs\n",
      "Contact\n",
      "Manage cookies\n",
      "Do not share my personal information\n",
      "You can’t perform that action at this time.\n"
     ]
    }
   ],
   "source": [
    "print(user_prompt_for(tacodevtripa))"
   ]
  },
  {
   "cell_type": "markdown",
   "id": "ea211b5f-28e1-4a86-8e52-c0b7677cadcc",
   "metadata": {},
   "source": [
    "# Mensajes\n",
    "\n",
    "OpenAI establecio un formato para la manera en que la informacion es procesada por los LLMs, el siguiente ejemplo\n",
    "es la forma mas basica, donde la estructura es una lista `[]` de diccionarios `{key:value}`, o elementos tipo llave:valor\n",
    "\n",
    "Asi es posible para el LLMs diferencias que tipo de prompt esta procesando"
   ]
  },
  {
   "cell_type": "code",
   "execution_count": 20,
   "id": "f25dcd35-0cd0-4235-9f64-ac37ed9eaaa5",
   "metadata": {},
   "outputs": [],
   "source": [
    "messages = [\n",
    "    {\"role\": \"system\", \"content\": \"You are a Spanish assistant\"},\n",
    "    {\"role\": \"user\", \"content\": \"What is 2 + 2?\"}\n",
    "]"
   ]
  },
  {
   "cell_type": "code",
   "execution_count": null,
   "id": "21ed95c5-7001-47de-a36d-1d6673b403ce",
   "metadata": {},
   "outputs": [
    {
     "data": {
      "text/plain": [
       "'Hola! *smile*\\n\\nLa respuesta es... 4. ¡Es fácil, ¿no?!\" (The answer is... 4. Easy, isn\\'t it?)'"
      ]
     },
     "execution_count": 21,
     "metadata": {},
     "output_type": "execute_result"
    }
   ],
   "source": [
    "# Llamada a olama, el resultado es devuelto una vez terminado de procesar por completo\n",
    "model.invoke(messages)"
   ]
  },
  {
   "cell_type": "code",
   "execution_count": 25,
   "id": "50576118",
   "metadata": {},
   "outputs": [
    {
     "name": "stdout",
     "output_type": "stream",
     "text": [
      "¡ Hola !  ( Hello !)  In  Spanish ,  we  would  say  \" ¿ Cu ánt o  es   2  más   2 ?\"  which  means  \" How  much  is   2  plus   2 ?\"\n",
      "\n",
      " And  the  answer  is ...  ¡ 4 !  ( Four !)\n",
      "\n",
      " ¿ Es  correct o ?  ( Is  that  right ?)  "
     ]
    }
   ],
   "source": [
    "# El resultado es devuelto 'a trozos', por lo que se puede iterar para mostrarlo en pantalla conforme es recibido\n",
    "for chunk in model.stream(messages):\n",
    "    print(chunk, end=\" \") #usamos el parametro de `end=\" \"` para sobreescribir que por defecto `print()` agregue un salto de linea"
   ]
  },
  {
   "cell_type": "markdown",
   "id": "d06e8d78-ce4c-4b05-aa8e-17050c82bb47",
   "metadata": {},
   "source": [
    "## Funcion para crear los mensajes con el formato especificado anteriormente"
   ]
  },
  {
   "cell_type": "code",
   "execution_count": 26,
   "id": "0134dfa4-8299-48b5-b444-f2a8c3403c88",
   "metadata": {},
   "outputs": [],
   "source": [
    "def messages_for_LLM(system_prompt, website):\n",
    "    return [\n",
    "        {\"role\": \"system\", \"content\": system_prompt}, #configuracion del system prompt\n",
    "        {\"role\": \"user\", \"content\": user_prompt_for(website)} #configuracion del input de usuario con los datos de la pagina web\n",
    "    ]"
   ]
  },
  {
   "cell_type": "code",
   "execution_count": 28,
   "id": "36478464-39ee-485c-9f3f-6a4e458dbc9c",
   "metadata": {},
   "outputs": [
    {
     "data": {
      "text/plain": [
       "[{'role': 'system',\n",
       "  'content': 'You are an assistant that analyzes the contents of a website and provides a short summary, ignoring text that might be navigation related. Respond in markdown.'},\n",
       " {'role': 'user',\n",
       "  'content': \"You are looking at a website titled tacodevtripa (tacodevtripa) · GitHub\\nThe contents of this website is as follows; please provide a short summary of this website in markdown. If it includes news or announcements, then summarize these too.\\n\\nSkip to content\\nNavigation Menu\\nToggle navigation\\nSign in\\nProduct\\nGitHub Copilot\\nWrite better code with AI\\nSecurity\\nFind and fix vulnerabilities\\nActions\\nAutomate any workflow\\nCodespaces\\nInstant dev environments\\nIssues\\nPlan and track work\\nCode Review\\nManage code changes\\nDiscussions\\nCollaborate outside of code\\nCode Search\\nFind more, search less\\nExplore\\nAll features\\nDocumentation\\nGitHub Skills\\nBlog\\nSolutions\\nBy company size\\nEnterprises\\nSmall and medium teams\\nStartups\\nNonprofits\\nBy use case\\nDevSecOps\\nDevOps\\nCI/CD\\nView all use cases\\nBy industry\\nHealthcare\\nFinancial services\\nManufacturing\\nGovernment\\nView all industries\\nView all solutions\\nResources\\nTopics\\nAI\\nDevOps\\nSecurity\\nSoftware Development\\nView all\\nExplore\\nLearning Pathways\\nWhite papers, Ebooks, Webinars\\nCustomer Stories\\nPartners\\nExecutive Insights\\nOpen Source\\nGitHub Sponsors\\nFund open source developers\\nThe ReadME Project\\nGitHub community articles\\nRepositories\\nTopics\\nTrending\\nCollections\\nEnterprise\\nEnterprise platform\\nAI-powered developer platform\\nAvailable add-ons\\nAdvanced Security\\nEnterprise-grade security features\\nGitHub Copilot\\nEnterprise-grade AI features\\nPremium Support\\nEnterprise-grade 24/7 support\\nPricing\\nSearch or jump to...\\nSearch code, repositories, users, issues, pull requests...\\nSearch\\nClear\\nSearch syntax tips\\nProvide feedback\\nWe read every piece of feedback, and take your input very seriously.\\nInclude my email address so I can be contacted\\nCancel\\nSubmit feedback\\nSaved searches\\nUse saved searches to filter your results more quickly\\nCancel\\nCreate saved search\\nSign in\\nSign up\\nReseting focus\\nYou signed in with another tab or window.\\nReload\\nto refresh your session.\\nYou signed out in another tab or window.\\nReload\\nto refresh your session.\\nYou switched accounts on another tab or window.\\nReload\\nto refresh your session.\\nDismiss alert\\ntacodevtripa\\nFollow\\nOverview\\nRepositories\\n3\\nProjects\\n0\\nPackages\\n0\\nStars\\n2\\nMore\\nOverview\\nRepositories\\nProjects\\nPackages\\nStars\\ntacodevtripa\\nFollow\\ntacodevtripa\\ntacodevtripa\\nFollow\\n👨\\u200d💻 Full-stack development made simple! Welcome to the official GitHub of 'taco dev tripa'. Here, you'll find all the resources from the YouTube videos.\\nhttps://www.youtube.com/@tacodevtripa\\nBlock or Report\\nBlock or report tacodevtripa\\nReport abuse\\nContact GitHub support about this user’s behavior.\\n        Learn more about\\nreporting abuse\\n.\\nReport abuse\\nOverview\\nRepositories\\n3\\nProjects\\n0\\nPackages\\n0\\nStars\\n2\\nMore\\nOverview\\nRepositories\\nProjects\\nPackages\\nStars\\ntacodevtripa\\n/\\nREADME\\n.md\\n🌟 Welcome to tacodevtripa's GitHub!\\nHi there! 👋\\nI'm dedicated to helping aspiring developers become\\nFull-stack professionals\\n. This GitHub profile complements my\\nYouTube Channel\\nby providing code, projects, and resources from my tutorials.\\n🚀 What You’ll Find Here:\\nFrontend Projects\\n: From HTML & CSS basics to React apps.\\nBackend Projects\\n: APIs with Node.js, Spring Boot, and more.\\nFull-stack Applications\\n: Complete solutions combining frontend, backend, databases and AWS solutions.\\nResources\\n: Cheat sheets, boilerplates, and reusable components.\\n🌟 About Me\\nI'm passionate about teaching web development and empowering creators with the skills to build\\nreal-world applications\\n. Whether you're just starting out or looking to deepen your knowledge, I've got you covered!\\n💬\\nLet's Connect\\n:\\nYouTube\\nDiscord\\n⭐️ Support\\nIf you enjoy the content and find it helpful:\\nStar 🌟 the repositories you love.\\nShare the tutorials with your network.\\nSubscribe to my\\nYouTube Channel\\nfor more content!\\nHappy coding! 🚀\\nPopular repositories\\nLoading\\ntacodevtripa\\ntacodevtripa\\nPublic\\nhtml-css\\nhtml-css\\nPublic\\nLLMs\\nLLMs\\nPublic\\nSomething went wrong, please refresh the page to try again.\\nIf the problem persists, check the\\nGitHub status page\\nor\\ncontact support\\n.\\nFooter\\n© 2025 GitHub,\\xa0Inc.\\nFooter navigation\\nTerms\\nPrivacy\\nSecurity\\nStatus\\nDocs\\nContact\\nManage cookies\\nDo not share my personal information\\nYou can’t perform that action at this time.\"}]"
      ]
     },
     "execution_count": 28,
     "metadata": {},
     "output_type": "execute_result"
    }
   ],
   "source": [
    "messages_for_LLM(system_prompt, tacodevtripa)"
   ]
  },
  {
   "cell_type": "markdown",
   "id": "16f49d46-bf55-4c3e-928f-68fc0bf715b0",
   "metadata": {},
   "source": [
    "# Funcion para unir todo\n",
    "\n",
    "## Al proveer la URL del sitio web deseado:\n",
    "- Se creara la instancia de dicho sitio web\n",
    "- Por medio de el constructor de dicho metodo se almacena la informacion deseada\n",
    "- Y se devuelve la respuesta del LLM, usando los metodos anteriores para obtener el resultado deseado"
   ]
  },
  {
   "cell_type": "code",
   "execution_count": 29,
   "id": "905b9919-aba7-45b5-ae65-81b3d1d78e34",
   "metadata": {},
   "outputs": [],
   "source": [
    "def summarize(url):\n",
    "    website = Website(url)\n",
    "    return model.invoke(messages_for_LLM(system_prompt, website))"
   ]
  },
  {
   "cell_type": "code",
   "execution_count": 30,
   "id": "05e38d41-dfa4-4b20-9c96-c46ea75d9fb5",
   "metadata": {},
   "outputs": [
    {
     "data": {
      "text/plain": [
       "\"# Summary of tacodevtripa's Website\\n\\nThe website `tacodevtripa` appears to be the official GitHub profile of a full-stack development creator. The page is divided into sections:\\n\\n## Overview\\n- Introduction: A brief welcome message introducing the creator and their purpose.\\n- About Me: Information about the creator, including their passion for teaching web development.\\n\\n## Features\\n\\n### Resources\\n- Code and projects tutorials with examples.\\n- Full-stack development tools and resources.\\n\\n## Popular Repositories\\n- Links to some of the popular repositories created by `tacodevtripa`.\\n\\n## Contact\\n- Invitation to subscribe to the YouTube Channel or connect through Discord.\\n- Call for feedback, support, and help in spreading the content.\\n\\nThe website focuses on providing tutorials and resources for web development, with a focus on full-stack skills.\""
      ]
     },
     "execution_count": 30,
     "metadata": {},
     "output_type": "execute_result"
    }
   ],
   "source": [
    "# Probando funcion\n",
    "summarize(\"https://github.com/tacodevtripa\")"
   ]
  },
  {
   "cell_type": "code",
   "execution_count": 31,
   "id": "3d926d59-450e-4609-92ba-2d6f244f1342",
   "metadata": {},
   "outputs": [],
   "source": [
    "# Metodo para modificar el formato de la respuesta con la libreria de `Markdown`\n",
    "def display_summary(url):\n",
    "    summary = summarize(url)\n",
    "    display(Markdown(summary))"
   ]
  },
  {
   "cell_type": "code",
   "execution_count": 32,
   "id": "3018853a-445f-41ff-9560-d925d1774b2f",
   "metadata": {},
   "outputs": [
    {
     "data": {
      "text/markdown": [
       "### Summary of tacodevtripa's Website\n",
       "\n",
       "#### About the Creator\n",
       "The website is run by a developer who aims to help aspiring developers become full-stack professionals through tutorials, code examples, and resources.\n",
       "\n",
       "#### Content Overview\n",
       "- **Frontend Projects**: Tutorials on HTML & CSS basics, React apps, and more.\n",
       "- **Backend Projects**: Tutorials on APIs with Node.js, Spring Boot, and other technologies.\n",
       "- **Full-stack Applications**: Complete solutions combining frontend, backend, databases, and AWS solutions.\n",
       "- **Resources**: Cheat sheets, boilerplates, and reusable components.\n",
       "\n",
       "#### Features of the Website\n",
       "The website includes a YouTube channel, Discord community for connection and collaboration, and offers support through stars (similar to likes) and subscribing to tutorials.\n",
       "\n",
       "#### Social Media Links\n",
       "- YouTube: [https://www.youtube.com/@tacodevtripa](https://www.youtube.com/@tacodevtripa)\n",
       "- Discord: Link not available in the provided information\n",
       "\n",
       "#### News/Announcements\n",
       "There are no formal announcements or news on the website itself. However, the creator invites users to share their content with their network and subscribe to their YouTube channel for more tutorials.\n",
       "\n",
       "#### Contact Information\n",
       "The creator is open to feedback through GitHub's issue system. There isn't a clear contact email provided for direct communication outside of these platforms.\n",
       "\n",
       "### Note\n",
       "Given the navigation menu was skipped in the analysis, key features and services like GitHub Copilot, Security, Codespaces, etc., were not included in this summary as their content or specific details about them weren't covered during the initial pass."
      ],
      "text/plain": [
       "<IPython.core.display.Markdown object>"
      ]
     },
     "metadata": {},
     "output_type": "display_data"
    }
   ],
   "source": [
    "#Probando funcion\n",
    "display_summary(\"https://github.com/tacodevtripa\")"
   ]
  },
  {
   "cell_type": "markdown",
   "id": "b3bcf6f4-adce-45e9-97ad-d9a5d7a3a624",
   "metadata": {},
   "source": [
    "# Probemos mas sitios web\n",
    "\n",
    "Este proyecto solo funcionara con sitios web muy basicos, puesto que algunos sitios web que usen frameworks como React, al renderizar los elementos conforme interactuas con la pagina, la informacion puede ser no muy precisa\n",
    "\n",
    "E incluso algunos sitios web cuentan con alguna proteccion basica gracias a sus proveedores de DNS, como CloudFrount, y su acceso por medio de estas librerias puede no funcionar"
   ]
  },
  {
   "cell_type": "code",
   "execution_count": 33,
   "id": "45d83403-a24c-44b5-84ac-961449b4008f",
   "metadata": {},
   "outputs": [
    {
     "data": {
      "text/markdown": [
       "It seems you have provided a large portion of the content from The Times newspaper. I can help with specific questions or tasks related to this content, but please let me know what you would like me to assist with.\n",
       "\n",
       "Would you like me to:\n",
       "\n",
       "1. Answer a specific question about the news or sports section?\n",
       "2. Summarize an article or provide more context on a particular topic?\n",
       "3. Help with something else (e.g., finding information on a specific person, place, or event)?\n",
       "4. Assist with generating ideas or discussing topics related to the content?\n",
       "\n",
       "Please let me know how I can assist you!"
      ],
      "text/plain": [
       "<IPython.core.display.Markdown object>"
      ]
     },
     "metadata": {},
     "output_type": "display_data"
    }
   ],
   "source": [
    "display_summary(\"https://www.thetimes.com/\")"
   ]
  },
  {
   "cell_type": "code",
   "execution_count": 34,
   "id": "75e9fd40-b354-4341-991e-863ef2e59db7",
   "metadata": {},
   "outputs": [
    {
     "data": {
      "text/markdown": [
       "This appears to be the official documentation for the LangChain framework, a Python library for building intelligent agents and language models.\n",
       "\n",
       "The documentation is organized into several sections:\n",
       "\n",
       "1. **Getting Started**: This section provides a brief introduction to LangChain and its ecosystem, as well as guides on how to get started with the library.\n",
       "2. **Architecture**: This section explains the architecture of LangChain and its various components, including chat models, vector stores, and agents.\n",
       "3. **Guides**: This section provides tutorials, how-to guides, and conceptual overviews of various topics related to LangChain.\n",
       "4. **Integrations**: This section lists the various integrations available for LangChain, including chat models, vector stores, and other components from different providers.\n",
       "5. **API Reference**: This section provides detailed documentation on all classes and methods in the LangChain Python packages.\n",
       "6. **Ecosystem**: This section highlights additional resources and tools that integrate with LangChain, such as LangSmith and LangGraph.\n",
       "7. **Versions**: This section explains the versioning policies for LangChain and provides information on migrating legacy code to new versions.\n",
       "8. **Security**: This section provides guidelines for developing safely with LangChain.\n",
       "9. **Contributing**: This section provides a developer's guide for contributing to LangChain.\n",
       "\n",
       "The documentation also mentions the following resources:\n",
       "\n",
       "* Twitter: @LangChain\n",
       "* GitHub: langchain\n",
       "* Organization: LangChain, Inc.\n",
       "* Python and JS/TS versions\n",
       "\n",
       "Overall, this documentation appears to be designed to help developers build intelligent agents and language models using LangChain."
      ],
      "text/plain": [
       "<IPython.core.display.Markdown object>"
      ]
     },
     "metadata": {},
     "output_type": "display_data"
    }
   ],
   "source": [
    "display_summary(\"https://python.langchain.com/docs/introduction/\")"
   ]
  },
  {
   "cell_type": "markdown",
   "id": "b0c305b8",
   "metadata": {},
   "source": [
    "## Ejemplo Adicional\n",
    "\n",
    "- El `System Prompt` fue definido para crear un ayudante en la creacion de los asuntos para los correos electronicos de acuerdo a su contenido\n",
    "- Por `User Prompt` pasaremos el contenido completo de un correo electronico inventado, la forma en que esta informacion llegue ya la dejo a su imaginacion\n",
    "- Notese como se especifica en el System Prompt que solo provea el 'asunto' para dicho email, para poder utilizar dicho valor y guardarlo en una variable, esto puede o no funcionar dependiendo de la 'fuerza' de cada LLM, pero por lo general siempre funciona, cosa que incluso puede ser cambiada para pedir varias opciones en una sola respuesta"
   ]
  },
  {
   "cell_type": "code",
   "execution_count": 37,
   "id": "00743dac-0e70-45b7-879a-d7293a6f68a6",
   "metadata": {},
   "outputs": [
    {
     "data": {
      "text/plain": [
       "'\"Exclusive Offer: Revolutionize Your Waste Management with EcoCycle\"\\n\\n(or)\\n\\n\"Ditch Waste, Not Your Budget: 10% Off EcoCycle Today\"\\n\\n(or)\\n\\n\"Sustainability Meets Convenience: Get Exclusive Access to EcoCycle\"'"
      ]
     },
     "execution_count": 37,
     "metadata": {},
     "output_type": "execute_result"
    }
   ],
   "source": [
    "system_prompt = \"\"\"Analyze the email content and suggest a clear, concise, and effective subject line. Your task is to:\n",
    "\n",
    "1. Read and understand the entire email content.\n",
    "2. Identify the main topic or purpose of the email.\n",
    "3. Determine the tone and language used in the email (e.g., formal, informal, promotional).\n",
    "4. Consider the recipient's context and potential emotional resonance.\n",
    "\n",
    "Create a subject line that accurately reflects the content of the email and is likely to capture the attention of\n",
    "the recipient.\n",
    "\n",
    "Provide nothing but the subject line, so the value can be stored in a variable, and provide 3 options\"\"\"\n",
    "\n",
    "user_prompt = \"\"\"\n",
    "Dear Tacodevtripa,\n",
    "\n",
    "We're excited to announce the launch of our new product, \"EcoCycle\" - a revolutionary recycling system designed to\n",
    "help households and businesses reduce their waste output.\n",
    "\n",
    "As one of our valued partners, we're offering you an exclusive 10% discount on your first purchase. Simply use the\n",
    "code ECOCYCLE10 at checkout to redeem your discount.\n",
    "\n",
    "Our team has worked tirelessly to develop EcoCycle, and we're confident it will make a significant impact in\n",
    "reducing waste and promoting sustainability.\n",
    "\n",
    "To learn more about EcoCycle and how it can benefit your organization, please click on the link below:\n",
    "\n",
    "\n",
    "Best regards,\n",
    "EcoCycle Team\n",
    "\"\"\"\n",
    "\n",
    "def messages_for_email_agent(system_prompt, content):\n",
    "    return [\n",
    "        {\"role\": \"system\", \"content\": system_prompt},\n",
    "        {\"role\": \"user\", \"content\": content}\n",
    "    ]\n",
    "messages = messages_for_email_agent(system_prompt, user_prompt)\n",
    "\n",
    "\n",
    "model.invoke(messages)"
   ]
  }
 ],
 "metadata": {
  "kernelspec": {
   "display_name": "llms",
   "language": "python",
   "name": "python3"
  },
  "language_info": {
   "codemirror_mode": {
    "name": "ipython",
    "version": 3
   },
   "file_extension": ".py",
   "mimetype": "text/x-python",
   "name": "python",
   "nbconvert_exporter": "python",
   "pygments_lexer": "ipython3",
   "version": "3.11.11"
  }
 },
 "nbformat": 4,
 "nbformat_minor": 5
}
